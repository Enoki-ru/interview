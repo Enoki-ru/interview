{
 "cells": [
  {
   "attachments": {},
   "cell_type": "markdown",
   "metadata": {},
   "source": [
    "## Начало\n",
    "---\n",
    "Всех приветствую! Сегодня мы продолжим масштабную подготовку к собеседованиям, потому что уже в понедельник будет встреча с руководителем одного направления Сбера, поэтому хочется как можно лучше подготовиться к этому дню. ( #сбер )\n",
    "\n",
    ">Требования от сбера:\n",
    "> - знание принципов и инструментов работы с большими данными SQL/Python\n",
    "> - знание основных портфельных риск-метрик\n",
    "> - знания статистики, принципов мат. моделирования, концепции статистической проверки гипотез\n",
    "\n",
    "## #Python\n",
    "---\n",
    "В этом блоке задач будут разбираться только задачи по Python\n",
    "\n",
    "**Задача 1**\n",
    "- Создайте df и придумайте ей данные с именами и фамилиями"
   ]
  },
  {
   "cell_type": "code",
   "execution_count": 568,
   "metadata": {},
   "outputs": [],
   "source": [
    "import pandas as pd\n",
    "import numpy as np\n",
    "import matplotlib.pyplot as plt\n",
    "import seaborn as sns"
   ]
  },
  {
   "cell_type": "code",
   "execution_count": 569,
   "metadata": {},
   "outputs": [
    {
     "name": "stdout",
     "output_type": "stream",
     "text": [
      "     Name    Фамилия\n",
      "0  Сергей    Воронин\n",
      "1   Дарья      Балюк\n",
      "2    Инга    Калиева\n",
      "3  Наташа  Дребезова\n"
     ]
    }
   ],
   "source": [
    "df=pd.DataFrame({'Name':['Сергей','Дарья','Инга','Наташа'],'Фамилия':['Воронин','Балюк','Калиева','Дребезова']})\n",
    "print(df)"
   ]
  },
  {
   "attachments": {},
   "cell_type": "markdown",
   "metadata": {},
   "source": [
    "**Задача 2**\n",
    "- Добавьте этой таблице еще один столбец с возрастами"
   ]
  },
  {
   "cell_type": "code",
   "execution_count": 570,
   "metadata": {},
   "outputs": [
    {
     "data": {
      "text/html": [
       "<div>\n",
       "<style scoped>\n",
       "    .dataframe tbody tr th:only-of-type {\n",
       "        vertical-align: middle;\n",
       "    }\n",
       "\n",
       "    .dataframe tbody tr th {\n",
       "        vertical-align: top;\n",
       "    }\n",
       "\n",
       "    .dataframe thead th {\n",
       "        text-align: right;\n",
       "    }\n",
       "</style>\n",
       "<table border=\"1\" class=\"dataframe\">\n",
       "  <thead>\n",
       "    <tr style=\"text-align: right;\">\n",
       "      <th></th>\n",
       "      <th>Name</th>\n",
       "      <th>Фамилия</th>\n",
       "      <th>Возраст</th>\n",
       "    </tr>\n",
       "  </thead>\n",
       "  <tbody>\n",
       "    <tr>\n",
       "      <th>0</th>\n",
       "      <td>Сергей</td>\n",
       "      <td>Воронин</td>\n",
       "      <td>31</td>\n",
       "    </tr>\n",
       "    <tr>\n",
       "      <th>1</th>\n",
       "      <td>Дарья</td>\n",
       "      <td>Балюк</td>\n",
       "      <td>26</td>\n",
       "    </tr>\n",
       "    <tr>\n",
       "      <th>2</th>\n",
       "      <td>Инга</td>\n",
       "      <td>Калиева</td>\n",
       "      <td>43</td>\n",
       "    </tr>\n",
       "    <tr>\n",
       "      <th>3</th>\n",
       "      <td>Наташа</td>\n",
       "      <td>Дребезова</td>\n",
       "      <td>12</td>\n",
       "    </tr>\n",
       "  </tbody>\n",
       "</table>\n",
       "</div>"
      ],
      "text/plain": [
       "     Name    Фамилия  Возраст\n",
       "0  Сергей    Воронин       31\n",
       "1   Дарья      Балюк       26\n",
       "2    Инга    Калиева       43\n",
       "3  Наташа  Дребезова       12"
      ]
     },
     "execution_count": 570,
     "metadata": {},
     "output_type": "execute_result"
    }
   ],
   "source": [
    "df['Возраст']=[31,26,43,12]\n",
    "df"
   ]
  },
  {
   "attachments": {},
   "cell_type": "markdown",
   "metadata": {},
   "source": [
    "**Задача 3**\n",
    "- Добавьте в таблицу еще одного человека"
   ]
  },
  {
   "cell_type": "code",
   "execution_count": 571,
   "metadata": {},
   "outputs": [
    {
     "data": {
      "text/html": [
       "<div>\n",
       "<style scoped>\n",
       "    .dataframe tbody tr th:only-of-type {\n",
       "        vertical-align: middle;\n",
       "    }\n",
       "\n",
       "    .dataframe tbody tr th {\n",
       "        vertical-align: top;\n",
       "    }\n",
       "\n",
       "    .dataframe thead th {\n",
       "        text-align: right;\n",
       "    }\n",
       "</style>\n",
       "<table border=\"1\" class=\"dataframe\">\n",
       "  <thead>\n",
       "    <tr style=\"text-align: right;\">\n",
       "      <th></th>\n",
       "      <th>Name</th>\n",
       "      <th>Фамилия</th>\n",
       "      <th>Возраст</th>\n",
       "    </tr>\n",
       "  </thead>\n",
       "  <tbody>\n",
       "    <tr>\n",
       "      <th>0</th>\n",
       "      <td>Сергей</td>\n",
       "      <td>Воронин</td>\n",
       "      <td>31</td>\n",
       "    </tr>\n",
       "    <tr>\n",
       "      <th>1</th>\n",
       "      <td>Дарья</td>\n",
       "      <td>Балюк</td>\n",
       "      <td>26</td>\n",
       "    </tr>\n",
       "    <tr>\n",
       "      <th>2</th>\n",
       "      <td>Инга</td>\n",
       "      <td>Калиева</td>\n",
       "      <td>43</td>\n",
       "    </tr>\n",
       "    <tr>\n",
       "      <th>3</th>\n",
       "      <td>Наташа</td>\n",
       "      <td>Дребезова</td>\n",
       "      <td>12</td>\n",
       "    </tr>\n",
       "    <tr>\n",
       "      <th>4</th>\n",
       "      <td>Саша</td>\n",
       "      <td>Сулимов</td>\n",
       "      <td>33</td>\n",
       "    </tr>\n",
       "  </tbody>\n",
       "</table>\n",
       "</div>"
      ],
      "text/plain": [
       "     Name    Фамилия  Возраст\n",
       "0  Сергей    Воронин       31\n",
       "1   Дарья      Балюк       26\n",
       "2    Инга    Калиева       43\n",
       "3  Наташа  Дребезова       12\n",
       "4    Саша    Сулимов       33"
      ]
     },
     "execution_count": 571,
     "metadata": {},
     "output_type": "execute_result"
    }
   ],
   "source": [
    "df.loc[len(df)]=['Саша','Сулимов',33]\n",
    "df"
   ]
  },
  {
   "attachments": {},
   "cell_type": "markdown",
   "metadata": {},
   "source": [
    "**Задача 4**\n",
    "- Добавьте этой таблице еще два столбца со случайными распределениями. В одном на отрезке (5,8), в другом на отрезке (50,85)."
   ]
  },
  {
   "cell_type": "code",
   "execution_count": 572,
   "metadata": {},
   "outputs": [
    {
     "data": {
      "text/html": [
       "<div>\n",
       "<style scoped>\n",
       "    .dataframe tbody tr th:only-of-type {\n",
       "        vertical-align: middle;\n",
       "    }\n",
       "\n",
       "    .dataframe tbody tr th {\n",
       "        vertical-align: top;\n",
       "    }\n",
       "\n",
       "    .dataframe thead th {\n",
       "        text-align: right;\n",
       "    }\n",
       "</style>\n",
       "<table border=\"1\" class=\"dataframe\">\n",
       "  <thead>\n",
       "    <tr style=\"text-align: right;\">\n",
       "      <th></th>\n",
       "      <th>Name</th>\n",
       "      <th>Фамилия</th>\n",
       "      <th>Возраст</th>\n",
       "      <th>zodiac_id</th>\n",
       "      <th>Вес</th>\n",
       "    </tr>\n",
       "  </thead>\n",
       "  <tbody>\n",
       "    <tr>\n",
       "      <th>0</th>\n",
       "      <td>Сергей</td>\n",
       "      <td>Воронин</td>\n",
       "      <td>31</td>\n",
       "      <td>7</td>\n",
       "      <td>80</td>\n",
       "    </tr>\n",
       "    <tr>\n",
       "      <th>1</th>\n",
       "      <td>Дарья</td>\n",
       "      <td>Балюк</td>\n",
       "      <td>26</td>\n",
       "      <td>6</td>\n",
       "      <td>57</td>\n",
       "    </tr>\n",
       "    <tr>\n",
       "      <th>2</th>\n",
       "      <td>Инга</td>\n",
       "      <td>Калиева</td>\n",
       "      <td>43</td>\n",
       "      <td>7</td>\n",
       "      <td>62</td>\n",
       "    </tr>\n",
       "    <tr>\n",
       "      <th>3</th>\n",
       "      <td>Наташа</td>\n",
       "      <td>Дребезова</td>\n",
       "      <td>12</td>\n",
       "      <td>6</td>\n",
       "      <td>60</td>\n",
       "    </tr>\n",
       "    <tr>\n",
       "      <th>4</th>\n",
       "      <td>Саша</td>\n",
       "      <td>Сулимов</td>\n",
       "      <td>33</td>\n",
       "      <td>7</td>\n",
       "      <td>68</td>\n",
       "    </tr>\n",
       "  </tbody>\n",
       "</table>\n",
       "</div>"
      ],
      "text/plain": [
       "     Name    Фамилия  Возраст  zodiac_id  Вес\n",
       "0  Сергей    Воронин       31          7   80\n",
       "1   Дарья      Балюк       26          6   57\n",
       "2    Инга    Калиева       43          7   62\n",
       "3  Наташа  Дребезова       12          6   60\n",
       "4    Саша    Сулимов       33          7   68"
      ]
     },
     "execution_count": 572,
     "metadata": {},
     "output_type": "execute_result"
    }
   ],
   "source": [
    "import random\n",
    "df['zodiac_id']=[random.randrange(5, 8, 1) for i in range(len(df))]\n",
    "df['Вес']=random.sample(range(50,86),len(df))\n",
    "df"
   ]
  },
  {
   "attachments": {},
   "cell_type": "markdown",
   "metadata": {},
   "source": [
    "**Задача 5**\n",
    "- Создайте другую таблицу со знаками зодиака, и объедините эти две таблицы, используя zodiac_id ( #зодиак )"
   ]
  },
  {
   "cell_type": "code",
   "execution_count": 573,
   "metadata": {},
   "outputs": [
    {
     "data": {
      "text/html": [
       "<div>\n",
       "<style scoped>\n",
       "    .dataframe tbody tr th:only-of-type {\n",
       "        vertical-align: middle;\n",
       "    }\n",
       "\n",
       "    .dataframe tbody tr th {\n",
       "        vertical-align: top;\n",
       "    }\n",
       "\n",
       "    .dataframe thead th {\n",
       "        text-align: right;\n",
       "    }\n",
       "</style>\n",
       "<table border=\"1\" class=\"dataframe\">\n",
       "  <thead>\n",
       "    <tr style=\"text-align: right;\">\n",
       "      <th></th>\n",
       "      <th>Зодиак</th>\n",
       "    </tr>\n",
       "  </thead>\n",
       "  <tbody>\n",
       "    <tr>\n",
       "      <th>0</th>\n",
       "      <td>Aries</td>\n",
       "    </tr>\n",
       "    <tr>\n",
       "      <th>1</th>\n",
       "      <td>Taurus</td>\n",
       "    </tr>\n",
       "    <tr>\n",
       "      <th>2</th>\n",
       "      <td>Gemini</td>\n",
       "    </tr>\n",
       "    <tr>\n",
       "      <th>3</th>\n",
       "      <td>Cancer</td>\n",
       "    </tr>\n",
       "    <tr>\n",
       "      <th>4</th>\n",
       "      <td>Leo</td>\n",
       "    </tr>\n",
       "    <tr>\n",
       "      <th>5</th>\n",
       "      <td>Virgo</td>\n",
       "    </tr>\n",
       "    <tr>\n",
       "      <th>6</th>\n",
       "      <td>Libra</td>\n",
       "    </tr>\n",
       "    <tr>\n",
       "      <th>7</th>\n",
       "      <td>Scorpio</td>\n",
       "    </tr>\n",
       "    <tr>\n",
       "      <th>8</th>\n",
       "      <td>Sagittarius</td>\n",
       "    </tr>\n",
       "    <tr>\n",
       "      <th>9</th>\n",
       "      <td>Capricorn</td>\n",
       "    </tr>\n",
       "    <tr>\n",
       "      <th>10</th>\n",
       "      <td>Aquarius</td>\n",
       "    </tr>\n",
       "    <tr>\n",
       "      <th>11</th>\n",
       "      <td>Pisces</td>\n",
       "    </tr>\n",
       "  </tbody>\n",
       "</table>\n",
       "</div>"
      ],
      "text/plain": [
       "         Зодиак\n",
       "0         Aries\n",
       "1        Taurus\n",
       "2        Gemini\n",
       "3        Cancer\n",
       "4           Leo\n",
       "5         Virgo\n",
       "6         Libra\n",
       "7       Scorpio\n",
       "8   Sagittarius\n",
       "9     Capricorn\n",
       "10     Aquarius\n",
       "11       Pisces"
      ]
     },
     "execution_count": 573,
     "metadata": {},
     "output_type": "execute_result"
    }
   ],
   "source": [
    "ZODIAC_SIGNS = [\n",
    "    \"Aries\",\n",
    "    \"Taurus\",\n",
    "    \"Gemini\",\n",
    "    \"Cancer\",\n",
    "    \"Leo\",\n",
    "    \"Virgo\",\n",
    "    \"Libra\",\n",
    "    \"Scorpio\",\n",
    "    \"Sagittarius\",\n",
    "    \"Capricorn\",\n",
    "    \"Aquarius\",\n",
    "    \"Pisces\"\n",
    "]\n",
    "zodiac=pd.DataFrame({'Зодиак':ZODIAC_SIGNS})\n",
    "zodiac\n"
   ]
  },
  {
   "cell_type": "code",
   "execution_count": 574,
   "metadata": {},
   "outputs": [
    {
     "data": {
      "text/html": [
       "<div>\n",
       "<style scoped>\n",
       "    .dataframe tbody tr th:only-of-type {\n",
       "        vertical-align: middle;\n",
       "    }\n",
       "\n",
       "    .dataframe tbody tr th {\n",
       "        vertical-align: top;\n",
       "    }\n",
       "\n",
       "    .dataframe thead th {\n",
       "        text-align: right;\n",
       "    }\n",
       "</style>\n",
       "<table border=\"1\" class=\"dataframe\">\n",
       "  <thead>\n",
       "    <tr style=\"text-align: right;\">\n",
       "      <th></th>\n",
       "      <th>Name</th>\n",
       "      <th>Фамилия</th>\n",
       "      <th>Возраст</th>\n",
       "      <th>zodiac_id</th>\n",
       "      <th>Вес</th>\n",
       "      <th>Зодиак</th>\n",
       "    </tr>\n",
       "  </thead>\n",
       "  <tbody>\n",
       "    <tr>\n",
       "      <th>0</th>\n",
       "      <td>Сергей</td>\n",
       "      <td>Воронин</td>\n",
       "      <td>31</td>\n",
       "      <td>7</td>\n",
       "      <td>80</td>\n",
       "      <td>Scorpio</td>\n",
       "    </tr>\n",
       "    <tr>\n",
       "      <th>1</th>\n",
       "      <td>Дарья</td>\n",
       "      <td>Балюк</td>\n",
       "      <td>26</td>\n",
       "      <td>6</td>\n",
       "      <td>57</td>\n",
       "      <td>Libra</td>\n",
       "    </tr>\n",
       "    <tr>\n",
       "      <th>2</th>\n",
       "      <td>Инга</td>\n",
       "      <td>Калиева</td>\n",
       "      <td>43</td>\n",
       "      <td>7</td>\n",
       "      <td>62</td>\n",
       "      <td>Scorpio</td>\n",
       "    </tr>\n",
       "    <tr>\n",
       "      <th>3</th>\n",
       "      <td>Наташа</td>\n",
       "      <td>Дребезова</td>\n",
       "      <td>12</td>\n",
       "      <td>6</td>\n",
       "      <td>60</td>\n",
       "      <td>Libra</td>\n",
       "    </tr>\n",
       "    <tr>\n",
       "      <th>4</th>\n",
       "      <td>Саша</td>\n",
       "      <td>Сулимов</td>\n",
       "      <td>33</td>\n",
       "      <td>7</td>\n",
       "      <td>68</td>\n",
       "      <td>Scorpio</td>\n",
       "    </tr>\n",
       "  </tbody>\n",
       "</table>\n",
       "</div>"
      ],
      "text/plain": [
       "     Name    Фамилия  Возраст  zodiac_id  Вес   Зодиак\n",
       "0  Сергей    Воронин       31          7   80  Scorpio\n",
       "1   Дарья      Балюк       26          6   57    Libra\n",
       "2    Инга    Калиева       43          7   62  Scorpio\n",
       "3  Наташа  Дребезова       12          6   60    Libra\n",
       "4    Саша    Сулимов       33          7   68  Scorpio"
      ]
     },
     "execution_count": 574,
     "metadata": {},
     "output_type": "execute_result"
    }
   ],
   "source": [
    "df=df.merge(zodiac,how='left', left_on='zodiac_id',right_index=True)\n",
    "df"
   ]
  },
  {
   "attachments": {},
   "cell_type": "markdown",
   "metadata": {},
   "source": [
    "**Задача 6**\n",
    "- Выведите только тех людей, у которых вес менее 60кг"
   ]
  },
  {
   "cell_type": "code",
   "execution_count": 575,
   "metadata": {},
   "outputs": [
    {
     "data": {
      "text/html": [
       "<div>\n",
       "<style scoped>\n",
       "    .dataframe tbody tr th:only-of-type {\n",
       "        vertical-align: middle;\n",
       "    }\n",
       "\n",
       "    .dataframe tbody tr th {\n",
       "        vertical-align: top;\n",
       "    }\n",
       "\n",
       "    .dataframe thead th {\n",
       "        text-align: right;\n",
       "    }\n",
       "</style>\n",
       "<table border=\"1\" class=\"dataframe\">\n",
       "  <thead>\n",
       "    <tr style=\"text-align: right;\">\n",
       "      <th></th>\n",
       "      <th>Name</th>\n",
       "      <th>Фамилия</th>\n",
       "      <th>Возраст</th>\n",
       "      <th>zodiac_id</th>\n",
       "      <th>Вес</th>\n",
       "      <th>Зодиак</th>\n",
       "    </tr>\n",
       "  </thead>\n",
       "  <tbody>\n",
       "    <tr>\n",
       "      <th>1</th>\n",
       "      <td>Дарья</td>\n",
       "      <td>Балюк</td>\n",
       "      <td>26</td>\n",
       "      <td>6</td>\n",
       "      <td>57</td>\n",
       "      <td>Libra</td>\n",
       "    </tr>\n",
       "  </tbody>\n",
       "</table>\n",
       "</div>"
      ],
      "text/plain": [
       "    Name Фамилия  Возраст  zodiac_id  Вес Зодиак\n",
       "1  Дарья   Балюк       26          6   57  Libra"
      ]
     },
     "execution_count": 575,
     "metadata": {},
     "output_type": "execute_result"
    }
   ],
   "source": [
    "df[df['Вес']<60]"
   ]
  },
  {
   "attachments": {},
   "cell_type": "markdown",
   "metadata": {},
   "source": [
    "**Задача 6.1**\n",
    "- Выведите таблицу с кол-вами людей каждого присутствующего зодиака (из-за того что они рандомно берутся, значения будут меняться)\n"
   ]
  },
  {
   "cell_type": "code",
   "execution_count": 576,
   "metadata": {},
   "outputs": [
    {
     "data": {
      "text/html": [
       "<div>\n",
       "<style scoped>\n",
       "    .dataframe tbody tr th:only-of-type {\n",
       "        vertical-align: middle;\n",
       "    }\n",
       "\n",
       "    .dataframe tbody tr th {\n",
       "        vertical-align: top;\n",
       "    }\n",
       "\n",
       "    .dataframe thead th {\n",
       "        text-align: right;\n",
       "    }\n",
       "</style>\n",
       "<table border=\"1\" class=\"dataframe\">\n",
       "  <thead>\n",
       "    <tr style=\"text-align: right;\">\n",
       "      <th></th>\n",
       "      <th>Зодиак</th>\n",
       "      <th>Name</th>\n",
       "    </tr>\n",
       "  </thead>\n",
       "  <tbody>\n",
       "    <tr>\n",
       "      <th>0</th>\n",
       "      <td>Libra</td>\n",
       "      <td>2</td>\n",
       "    </tr>\n",
       "    <tr>\n",
       "      <th>1</th>\n",
       "      <td>Scorpio</td>\n",
       "      <td>3</td>\n",
       "    </tr>\n",
       "  </tbody>\n",
       "</table>\n",
       "</div>"
      ],
      "text/plain": [
       "    Зодиак  Name\n",
       "0    Libra     2\n",
       "1  Scorpio     3"
      ]
     },
     "execution_count": 576,
     "metadata": {},
     "output_type": "execute_result"
    }
   ],
   "source": [
    "df.groupby('Зодиак', as_index=False) \\\n",
    "    .agg({'Name':'count'})"
   ]
  },
  {
   "attachments": {},
   "cell_type": "markdown",
   "metadata": {},
   "source": [
    "**Задача 7**\n",
    "- Сделайте две функции, одна при вызове будет писать длинную строку слешов, вторая будет возвращать строку курсивом"
   ]
  },
  {
   "cell_type": "code",
   "execution_count": 577,
   "metadata": {},
   "outputs": [],
   "source": [
    "#Сделаем функции для удобства\n",
    "def slesh():\n",
    "    print(f\"\\n---------------------------------------\\n\")\n",
    "def italic(word): #Делает текст курсивным\n",
    "    word='\\x1B[3m'+word+'\\x1B[0m'\n",
    "    return word"
   ]
  },
  {
   "cell_type": "code",
   "execution_count": 578,
   "metadata": {},
   "outputs": [
    {
     "name": "stdout",
     "output_type": "stream",
     "text": [
      "\n",
      "---------------------------------------\n",
      "\n",
      "Проверка \u001b[3mправильной работы\u001b[0m функций\n"
     ]
    }
   ],
   "source": [
    "slesh()\n",
    "print(f'Проверка {italic(\"правильной работы\")} функций')"
   ]
  },
  {
   "attachments": {},
   "cell_type": "markdown",
   "metadata": {},
   "source": [
    "**Задача 8**\n",
    "- Назовите разницу между списком и кортежем"
   ]
  },
  {
   "cell_type": "code",
   "execution_count": 579,
   "metadata": {},
   "outputs": [
    {
     "name": "stdout",
     "output_type": "stream",
     "text": [
      "Список - изменяемый тип данных, который представляет собой в основном данные одного типа.\n",
      "0. Darya\n",
      "1. Sergey\n",
      "2. Natalya\n",
      "3. Ingochka\n",
      "4. Timur\n",
      "5. Sasha\n",
      "6. Keril\n",
      "7. Nastya\n",
      "\n",
      "---------------------------------------\n",
      "\n",
      "Кортеж - неизменяемый тип данных. После создания его уже нельзя изменить.\n",
      "Однако, у него есть преимущества:       \n",
      "1. Он оптимизирован, поэтому с ним работать быстрее       \n",
      "2. Это безопасно, потому что данные нельзя никак изменить       \n",
      "3. В нем часто хранятся различные типы данных\n",
      "(3.98, 'Sergey', '2023-05-09')\n",
      "3.98\n",
      "Sergey\n",
      "2023-05-09\n"
     ]
    }
   ],
   "source": [
    "# Назовите разницу между списком и кортежем\n",
    "\n",
    "print('Список - изменяемый тип данных, который представляет собой в основном данные одного типа.')\n",
    "names=['Darya','Sergey','Natalya','Ingochka','Timur','Sasha','Keril','Nastya']\n",
    "for i,name in enumerate(names):\n",
    "    print(f\"{i}. {name}\")\n",
    "\n",
    "slesh()\n",
    "\n",
    "print('Кортеж - неизменяемый тип данных. После создания его уже нельзя изменить.\\nОднако, у него есть преимущества: \\\n",
    "      \\n1. Он оптимизирован, поэтому с ним работать быстрее \\\n",
    "      \\n2. Это безопасно, потому что данные нельзя никак изменить \\\n",
    "      \\n3. В нем часто хранятся различные типы данных')\n",
    "cortege=(3.98,'Sergey','2023-05-09')\n",
    "print(cortege)\n",
    "for i in cortege:\n",
    "    print(i)"
   ]
  },
  {
   "attachments": {},
   "cell_type": "markdown",
   "metadata": {},
   "source": [
    "**Задача 9**\n",
    "- Перечислите все методы вывода переменной в функции print()"
   ]
  },
  {
   "cell_type": "code",
   "execution_count": 580,
   "metadata": {},
   "outputs": [
    {
     "name": "stdout",
     "output_type": "stream",
     "text": [
      "\n",
      "---------------------------------------\n",
      "\n",
      "Меня зовут Сергей\n",
      "\n",
      "---------------------------------------\n",
      "\n",
      "Меня зовут Сергей\n",
      "\n",
      "---------------------------------------\n",
      "\n",
      "Меня зовут Сергей\n",
      "\n",
      "---------------------------------------\n",
      "\n"
     ]
    }
   ],
   "source": [
    "slesh()\n",
    "name='Сергей'\n",
    "\n",
    "print(f\"Меня зовут {name}\")\n",
    "slesh()\n",
    "print(\"Меня зовут %s\" % name)\n",
    "slesh()\n",
    "print(\"Меня зовут {}\".format(name))\n",
    "slesh()"
   ]
  },
  {
   "attachments": {},
   "cell_type": "markdown",
   "metadata": {},
   "source": [
    "**Задача 10**\n",
    "- Существует ли разница между операциями сравнения `is` и `==` ?"
   ]
  },
  {
   "cell_type": "code",
   "execution_count": 581,
   "metadata": {},
   "outputs": [
    {
     "name": "stdout",
     "output_type": "stream",
     "text": [
      "На самом деле, всё просто: \n",
      "    Операция is сравнивает адреса на объекты, и если они одинаковые, то выводит True. Давайте убедимся в этом\n",
      "True\n",
      "Добавим третью переменную, которая будет ссылаться на a=[1, 2, 3]\n",
      "a is b = False\n",
      "a is c = True\n",
      "b is c = False\n",
      "\n",
      "---------------------------------------\n",
      "\n",
      "Оказывается, мы даже можем узнать их адреса, и сами тогда убедимся, что они разные\n",
      "id(a) = 1732762595776\n",
      "id(b) = 1732762532288\n",
      "id(c) = 1732762595776\n"
     ]
    }
   ],
   "source": [
    "print(\"На самом деле, всё просто: \\n\\\n",
    "    Операция is сравнивает адреса на объекты, и если они одинаковые, то выводит True. Давайте убедимся в этом\")\n",
    "a=[1,2,3]\n",
    "b=[1,2,3]\n",
    "print(a==b)\n",
    "print(f'Добавим третью переменную, которая будет ссылаться на a={a}')\n",
    "c=a\n",
    "print(f\"a is b = {a is b}\")\n",
    "print(f\"a is c = {a is c}\")\n",
    "print(f\"b is c = {b is c}\")\n",
    "slesh()\n",
    "print('Оказывается, мы даже можем узнать их адреса, и сами тогда убедимся, что они разные')\n",
    "print(f\"id(a) = {id(a)}\")\n",
    "print(f\"id(b) = {id(b)}\")\n",
    "print(f\"id(c) = {id(c)}\")"
   ]
  },
  {
   "attachments": {},
   "cell_type": "markdown",
   "metadata": {},
   "source": [
    "**Задача 11**\n",
    "- Что такое #декоратор ?"
   ]
  },
  {
   "cell_type": "code",
   "execution_count": 582,
   "metadata": {},
   "outputs": [
    {
     "name": "stdout",
     "output_type": "stream",
     "text": [
      "Если простыми словами, то это функционал, который позволяет добавить новую функциональность в уже существующую функцию\n",
      "Как это делается: Функция передается декоратору, а он выполняет и существующий, и дополнительный код\n",
      "\n",
      "---------------------------------------\n",
      "\n",
      "Вас спросят: \u001b[3mНапишите пример декоратора\u001b[0m\n",
      "[*] Время выполнения: 0.3961973190307617 секунд.\n",
      "Теперь рассказываем, что здесь произошло.     \n",
      "Для начала мы создали декоратор - функцию \u001b[3mbenchmark\u001b[0m, которая принимает в себя другую функцию.     \n",
      "И судя по строкам в ней, она после вызова себя начнет отсчет времени выполнения самой функции, которую мы туда поместим!     \n",
      "Только теперь уже после написания \u001b[3m@benchmark\u001b[0m мы переобозначим функцию, которую сами же и напишем, добавляя туда элемент подсчета времени выполнения.\n",
      "\n",
      "---------------------------------------\n",
      "\n"
     ]
    }
   ],
   "source": [
    "print('Если простыми словами, то это функционал, который позволяет добавить новую функциональность в уже существующую функцию')\n",
    "print('Как это делается: Функция передается декоратору, а он выполняет и существующий, и дополнительный код')\n",
    "slesh()\n",
    "print(f'Вас спросят: {italic(\"Напишите пример декоратора\")}')\n",
    "\n",
    "def benchmark(func):\n",
    "    import time\n",
    "\n",
    "    def wrapper():\n",
    "        start = time.time()\n",
    "        func()\n",
    "        end = time.time()\n",
    "        print('[*] Время выполнения: {} секунд.'.format(end-start))\n",
    "    return wrapper\n",
    "\n",
    "@benchmark\n",
    "def fetch_webpage():\n",
    "    import requests\n",
    "    webpage = requests.get('https://google.com')\n",
    "\n",
    "fetch_webpage()\n",
    "\n",
    "print(f'Теперь рассказываем, что здесь произошло. \\\n",
    "    \\nДля начала мы создали декоратор - функцию {italic(\"benchmark\")}, которая принимает в себя другую функцию. \\\n",
    "    \\nИ судя по строкам в ней, она после вызова себя начнет отсчет времени выполнения самой функции, которую мы туда поместим! \\\n",
    "    \\nТолько теперь уже после написания {italic(\"@benchmark\")} мы переобозначим функцию, которую сами же и напишем, добавляя туда элемент подсчета времени выполнения.')\n",
    "slesh()"
   ]
  },
  {
   "attachments": {},
   "cell_type": "markdown",
   "metadata": {},
   "source": [
    "**Задача 12**\n",
    "- Приведите пример использования класса ( #класс )"
   ]
  },
  {
   "cell_type": "code",
   "execution_count": 583,
   "metadata": {},
   "outputs": [
    {
     "name": "stdout",
     "output_type": "stream",
     "text": [
      "Привет, Сергей!\n",
      "Прикинь, когда я к нему подошел, он сказал Меня зовут Сергей\n"
     ]
    }
   ],
   "source": [
    "def funfun(word):\n",
    "    print(f'Прикинь, когда я к нему подошел, он сказал {word}')\n",
    "\n",
    "class hero:\n",
    "    def __init__(self,name):\n",
    "        self.name=name\n",
    "        print(f\"Привет, {self.name}!\")\n",
    "    def show_name(self):\n",
    "        self.say=\"Меня зовут \"+self.name\n",
    "        return self.say\n",
    "\n",
    "ser=hero('Сергей')\n",
    "funfun(ser.show_name())"
   ]
  },
  {
   "attachments": {},
   "cell_type": "markdown",
   "metadata": {},
   "source": [
    "**Задача 13**\n",
    "- Расскажите особенности использования функции #range \n"
   ]
  },
  {
   "cell_type": "code",
   "execution_count": 584,
   "metadata": {},
   "outputs": [
    {
     "name": "stdout",
     "output_type": "stream",
     "text": [
      "01234\n",
      "---------------------------------------\n",
      "\n",
      "23456\n",
      "---------------------------------------\n",
      "\n",
      "246\n",
      "---------------------------------------\n",
      "\n",
      "\u001b[3mКак создать список с использованием range в одну строчку?\u001b[0m\n",
      "Ответ убил:\n",
      "\n",
      "[i for i in range(10)]\n"
     ]
    },
    {
     "data": {
      "text/plain": [
       "[0, 1, 2, 3, 4, 5, 6, 7, 8, 9]"
      ]
     },
     "execution_count": 584,
     "metadata": {},
     "output_type": "execute_result"
    }
   ],
   "source": [
    "for i in range(5):\n",
    "    print(i,end='')\n",
    "slesh()\n",
    "for i in range(2,7):\n",
    "    print(i,end='')\n",
    "slesh()\n",
    "for i in range(2,7,2):\n",
    "    print(i,end='')\n",
    "slesh()\n",
    "print(italic(\"Как создать список с использованием range в одну строчку?\"))\n",
    "print('Ответ убил:\\n')\n",
    "print('[i for i in range(10)]')\n",
    "[i for i in range(10)]\n"
   ]
  },
  {
   "attachments": {},
   "cell_type": "markdown",
   "metadata": {},
   "source": [
    "**Задача 14**\n",
    "- Определите класс car с двумя атрибутами: color и speed. Затем создайте экземпляр и верните speed\n",
    "\n"
   ]
  },
  {
   "cell_type": "code",
   "execution_count": 585,
   "metadata": {},
   "outputs": [
    {
     "data": {
      "text/plain": [
       "180"
      ]
     },
     "execution_count": 585,
     "metadata": {},
     "output_type": "execute_result"
    }
   ],
   "source": [
    "class car:\n",
    "    def __init__(self,color,speed):\n",
    "        self.color=color\n",
    "        self.speed=speed\n",
    "bmw_andrey=car('Черный',180)\n",
    "bmw_sergey=car('Белый',220)\n",
    "bmw_sergey.color\n",
    "bmw_sergey.speed\n",
    "bmw_andrey.speed"
   ]
  },
  {
   "attachments": {},
   "cell_type": "markdown",
   "metadata": {},
   "source": [
    "**Задача 15**\n",
    "- Покажите пример использования функции #map , и расскажите, что это такое\n",
    "\n",
    "\n"
   ]
  },
  {
   "cell_type": "code",
   "execution_count": 586,
   "metadata": {},
   "outputs": [
    {
     "name": "stdout",
     "output_type": "stream",
     "text": [
      "Функция map перебирает значения, применяя какую-то другую функцию к каждому элементу\n",
      "Пример:\n",
      "Вот следующие проценты выполнения работ учеников:\n",
      "       ['0.33%', '0.55%', '0.47%', '0.58%', '0.49%', '0.3%', '0.43%', '0.54%', '0.35%', '0.46%', '0.51%', '0.47%', '0.59%', '0.56%', '0.53%', '0.56%', '0.47%', '0.39%', '0.2%', '0.52%']\n"
     ]
    }
   ],
   "source": [
    "print(\"Функция map перебирает значения, применяя какую-то другую функцию к каждому элементу\")\n",
    "print('Пример:')\n",
    "scores=[33,55,47,58,49,30,43,54,35,46,51,47,59,56,53,56,47,39,20,52]\n",
    "def procents(num):\n",
    "    return str((num/100))+'%'\n",
    "print(f\"Вот следующие проценты выполнения работ учеников:\\n \\\n",
    "      {list(map(procents,scores))}\")"
   ]
  },
  {
   "attachments": {},
   "cell_type": "markdown",
   "metadata": {},
   "source": [
    "**Задача 16**\n",
    "- Объясните, как работает функция #filter\n",
    "\n",
    "\n",
    "\n"
   ]
  },
  {
   "cell_type": "code",
   "execution_count": 587,
   "metadata": {},
   "outputs": [
    {
     "name": "stdout",
     "output_type": "stream",
     "text": [
      "Функция делает буквально то, о чем говорит ее название: она фильтрует элементы в последовательности.     \n",
      "Каждый элемент передается функции, которая включает его в последовательность, если по условию получает True, и отбрасывает в случае False:\n",
      "Было:\n",
      "[1, 2, 3, 4, 5, 6, 7, 8, 9, 10, 11, 12, 13, 14, 15, 16, 17, 18, 19, 20] <...>\n",
      "Стало:\n",
      "[3, 6, 9, 12, 15, 18, 21, 24, 27, 30, 33, 36, 39, 42, 45, 48, 51, 54, 57, 60, 63, 66, 69, 72, 75, 78, 81, 84, 87, 90, 93, 96, 99]\n"
     ]
    }
   ],
   "source": [
    "print('Функция делает буквально то, о чем говорит ее название: она фильтрует элементы в последовательности. \\\n",
    "    \\nКаждый элемент передается функции, которая включает его в последовательность, если по условию получает True, и отбрасывает в случае False:')\n",
    "def add_three(x):\n",
    "    if x % 3 == 0:\n",
    "        return True        \n",
    "    else:\n",
    "        return False\n",
    "\n",
    "li = [i for i in range(1,100)]\n",
    "print('Было:')\n",
    "print(li[:20],'<...>')\n",
    "q=[i for i in filter(add_three, li)]\n",
    "print('Стало:')\n",
    "print(q)"
   ]
  },
  {
   "attachments": {},
   "cell_type": "markdown",
   "metadata": {},
   "source": [
    "**Задача 17**\n",
    "- Что такое изменяемые и неизменяемые объекты. Назовите изменяемые и неизменяемые объекты.\n"
   ]
  },
  {
   "cell_type": "code",
   "execution_count": 588,
   "metadata": {},
   "outputs": [
    {
     "name": "stdout",
     "output_type": "stream",
     "text": [
      "Изменяемыми объектами называются те, которые можно изменить без изменения адреса объекта. Такими являются:\n",
      "list\n",
      "dict\n",
      "set\n",
      "Изменяемые: int, float, bool, string и tuple.\n"
     ]
    }
   ],
   "source": [
    "print('Изменяемыми объектами называются те, которые можно изменить без изменения адреса объекта. Такими являются:\\nlist\\ndict\\nset')\n",
    "print(\"Изменяемые: int, float, bool, string и tuple.\")"
   ]
  },
  {
   "cell_type": "code",
   "execution_count": null,
   "metadata": {},
   "outputs": [],
   "source": []
  },
  {
   "cell_type": "code",
   "execution_count": null,
   "metadata": {},
   "outputs": [],
   "source": []
  }
 ],
 "metadata": {
  "kernelspec": {
   "display_name": "Python 3",
   "language": "python",
   "name": "python3"
  },
  "language_info": {
   "codemirror_mode": {
    "name": "ipython",
    "version": 3
   },
   "file_extension": ".py",
   "mimetype": "text/x-python",
   "name": "python",
   "nbconvert_exporter": "python",
   "pygments_lexer": "ipython3",
   "version": "3.10.5"
  },
  "orig_nbformat": 4
 },
 "nbformat": 4,
 "nbformat_minor": 2
}
